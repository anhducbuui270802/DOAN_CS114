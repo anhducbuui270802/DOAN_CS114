{
 "cells": [
  {
   "cell_type": "markdown",
   "metadata": {},
   "source": [
    "# Giới thiệu phoBERT\n",
    "RoBERTa là một mô hình được phát triển bởi FaceBook kế thừa các thuật toán và kiến trúc mô hình BERT. Mô hình được phá triển dựa trên framework PyTorch (cũng do FB phát triển)\n",
    "\n",
    "Đây là một project hỗ trợ việc huấn luyện lại các model BERT trên những bộ dữ liệu mới cho các nguồn ngôn ngữ ít phổ biến. Kể từ khi ra đời, đã có rất nhiều các mô hình pretrain cho những ngôn ngữ khác nhau được huấn luyện trên RoBERTa\n",
    "\n",
    "Với tiếng Việt, có một mô hình rất tốt được phát triển dựa trên kiến trúc RoBERTa là mô hình **PhoBERT** do VinAI phát triển.\n",
    "\n",
    "BERT là một trong những mô hình cho kết quả SOTA (state-of-the-art) cho nhiều bài toán NLP hiện nay. Khác với những mô hình NLP trước kia, chỉ cho phép transfer learning ở mức nông, những mô hình NLP hiện đại như BERT cho phép học chuyển tiếp ở mức sâu. Vì vậy, ứng dụng mô hình BERT vào các bài toán text classification sẽ cho kết quả vượt trội\n",
    "\n",
    "Có 2 cách như sau:\n",
    "1. Sử dung phoBERT làm feature extractor, sau đó sử dụng một ML classifier để phân loại \n",
    "2. Fine-turn lại mô hình phoBERT. Tức là thêm một fully-connected layer vào cuối để làm classifier.\n",
    "\n",
    "Trong project này. Mình sử dụng phương pháp feature extractor bằng phoBERT.\n",
    "\n"
   ]
  },
  {
   "cell_type": "markdown",
   "metadata": {},
   "source": [
    "# Import thư viện cần thiết"
   ]
  },
  {
   "cell_type": "code",
   "execution_count": 1,
   "metadata": {},
   "outputs": [],
   "source": [
    "\n",
    "import numpy as np\n",
    "import matplotlib.pyplot as plt\n",
    "import time\n",
    "import re\n",
    "import random\n",
    "import seaborn as sns\n",
    "from tqdm.notebook import tqdm\n",
    "import torch\n",
    "import argparse\n",
    "import pickle\n",
    "import numpy as np\n",
    "from os.path import join\n",
    "\n",
    "from sklearn.naive_bayes import MultinomialNB\n",
    "from sklearn.linear_model import LogisticRegression\n",
    "from sklearn.svm import SVC\n",
    "\n",
    "import torch\n",
    "from torch import nn\n",
    "from torch.utils.data import DataLoader\n",
    "import torch.nn.functional as F\n",
    "import torch.optim as optim\n",
    "from torch.optim.lr_scheduler import StepLR\n",
    "from torch.autograd import Variable\n",
    "from torch.backends import cudnn\n",
    "from sklearn.model_selection import StratifiedKFold\n",
    "from sklearn.preprocessing import LabelEncoder\n",
    "from sklearn.metrics import accuracy_score, f1_score, confusion_matrix, classification_report\n",
    "from sklearn.manifold import TSNE\n",
    "from transformers.modeling_utils import * \n",
    "from transformers import AdamW, get_linear_schedule_with_warmup, get_constant_schedule\n",
    "from transformers import AutoModel, AutoTokenizer\n",
    "\n",
    "import argparse"
   ]
  },
  {
   "cell_type": "code",
   "execution_count": 2,
   "metadata": {},
   "outputs": [],
   "source": [
    "import pandas as pd \n",
    "from sklearn.model_selection import train_test_split"
   ]
  },
  {
   "cell_type": "markdown",
   "metadata": {},
   "source": [
    "# Load data"
   ]
  },
  {
   "cell_type": "markdown",
   "metadata": {},
   "source": [
    "Sử dụng data chưa loại bỏ stopword"
   ]
  },
  {
   "cell_type": "code",
   "execution_count": 3,
   "metadata": {},
   "outputs": [],
   "source": [
    "data = pd.read_excel(\"../dataset/final_data1.xlsx\")"
   ]
  },
  {
   "cell_type": "code",
   "execution_count": 4,
   "metadata": {},
   "outputs": [
    {
     "data": {
      "text/plain": [
       "Rate                 0\n",
       "Review               0\n",
       "Label                0\n",
       "Preprocess_Review    1\n",
       "dtype: int64"
      ]
     },
     "execution_count": 4,
     "metadata": {},
     "output_type": "execute_result"
    }
   ],
   "source": [
    "data.isna().sum()"
   ]
  },
  {
   "cell_type": "code",
   "execution_count": 5,
   "metadata": {},
   "outputs": [],
   "source": [
    "data.dropna(inplace=True)"
   ]
  },
  {
   "cell_type": "code",
   "execution_count": 6,
   "metadata": {},
   "outputs": [],
   "source": [
    "reviews = data[\"Preprocess_Review\"]\n",
    "labels = data[\"Label\"]"
   ]
  },
  {
   "cell_type": "markdown",
   "metadata": {},
   "source": [
    "# Chia tập Train/Test"
   ]
  },
  {
   "cell_type": "code",
   "execution_count": 7,
   "metadata": {},
   "outputs": [],
   "source": [
    "train_x, test_x, train_y, test_y = train_test_split(reviews, labels, test_size=0.2, random_state=42, stratify=labels)"
   ]
  },
  {
   "cell_type": "code",
   "execution_count": 8,
   "metadata": {},
   "outputs": [
    {
     "data": {
      "text/plain": [
       "{-1, 0, 1}"
      ]
     },
     "execution_count": 8,
     "metadata": {},
     "output_type": "execute_result"
    }
   ],
   "source": [
    "set(labels)"
   ]
  },
  {
   "cell_type": "code",
   "execution_count": 9,
   "metadata": {},
   "outputs": [
    {
     "data": {
      "text/plain": [
       "{-1, 0, 1}"
      ]
     },
     "execution_count": 9,
     "metadata": {},
     "output_type": "execute_result"
    }
   ],
   "source": [
    "set(train_y)"
   ]
  },
  {
   "cell_type": "markdown",
   "metadata": {},
   "source": [
    "# Sử dụng phoBERT làm feature extractor\n",
    "\n",
    "Các bước thực hiện:\n",
    "\n",
    "1. Tiền xử lý các câu (đã được thực hiệ trong file preprocessing_text)\n",
    "2. Tokenize bàng tokenizer của phoBERT (thêm 2 token đặc biệt là CLS và SEP vào đầu và cuối câu)\n",
    "3. Đưa các câu văn bản được tokenize vào model kèm theo attention mask\n",
    "4. Lấy vector output đầu tiên (tại vị trí CLS) để làm đầu vào của classifier"
   ]
  },
  {
   "cell_type": "markdown",
   "metadata": {},
   "source": [
    "## 1. Load model pretrained phoBERT"
   ]
  },
  {
   "cell_type": "code",
   "execution_count": 10,
   "metadata": {},
   "outputs": [
    {
     "name": "stderr",
     "output_type": "stream",
     "text": [
      "Special tokens have been added in the vocabulary, make sure the associated word embeddings are fine-tuned or trained.\n"
     ]
    }
   ],
   "source": [
    "# load model phoBert và tokenizer của model đó\n",
    "phoBert = AutoModel.from_pretrained('vinai/phobert-base')\n",
    "tokenizer = AutoTokenizer.from_pretrained(\"vinai/phobert-base\", use_fast=False)"
   ]
  },
  {
   "cell_type": "markdown",
   "metadata": {},
   "source": [
    "## 2. Tokenize văn bản và đưa về một kích thước cố định"
   ]
  },
  {
   "cell_type": "code",
   "execution_count": 11,
   "metadata": {},
   "outputs": [],
   "source": [
    "# Đưa từng sentence qua tokenizer của PhoBERT để convert sang dạng token index với cùng chiều dài\n",
    "# params\n",
    "MAX_SEQ_LEN = 256 # chiều dài tối đa của một câu\n",
    "# id của 1 số token đặc biệt\n",
    "cls_id = 0  # đầu câu\n",
    "eos_id = 2  # cuối câu\n",
    "pad_id = 1  # padding\n",
    "\n",
    "# Hàm xử lý dữ liệu trên từng sentence\n",
    "def tokenize_line(line):\n",
    "  tokenized = tokenizer.encode(line)\n",
    "  \n",
    "  l = len(tokenized)\n",
    "  if l > MAX_SEQ_LEN: # nếu dài hơn thì cắt bỏ\n",
    "    tokenized = tokenized[:MAX_SEQ_LEN]\n",
    "    tokenized[-1] = eos_id # thêm EOS vào cuối câu\n",
    "  else: # nếu ngắn hơn thì thêm padding vào\n",
    "    tokenized = tokenized + [pad_id, ] * (MAX_SEQ_LEN - l)\n",
    "  \n",
    "  return tokenized"
   ]
  },
  {
   "cell_type": "code",
   "execution_count": 12,
   "metadata": {},
   "outputs": [
    {
     "name": "stdout",
     "output_type": "stream",
     "text": [
      "After encode:  [0, 70, 3014, 15947, 1565, 2, 1, 1, 1, 1, 1, 1, 1, 1, 1, 1, 1, 1, 1, 1, 1, 1, 1, 1, 1, 1, 1, 1, 1, 1, 1, 1, 1, 1, 1, 1, 1, 1, 1, 1, 1, 1, 1, 1, 1, 1, 1, 1, 1, 1, 1, 1, 1, 1, 1, 1, 1, 1, 1, 1, 1, 1, 1, 1, 1, 1, 1, 1, 1, 1, 1, 1, 1, 1, 1, 1, 1, 1, 1, 1, 1, 1, 1, 1, 1, 1, 1, 1, 1, 1, 1, 1, 1, 1, 1, 1, 1, 1, 1, 1, 1, 1, 1, 1, 1, 1, 1, 1, 1, 1, 1, 1, 1, 1, 1, 1, 1, 1, 1, 1, 1, 1, 1, 1, 1, 1, 1, 1, 1, 1, 1, 1, 1, 1, 1, 1, 1, 1, 1, 1, 1, 1, 1, 1, 1, 1, 1, 1, 1, 1, 1, 1, 1, 1, 1, 1, 1, 1, 1, 1, 1, 1, 1, 1, 1, 1, 1, 1, 1, 1, 1, 1, 1, 1, 1, 1, 1, 1, 1, 1, 1, 1, 1, 1, 1, 1, 1, 1, 1, 1, 1, 1, 1, 1, 1, 1, 1, 1, 1, 1, 1, 1, 1, 1, 1, 1, 1, 1, 1, 1, 1, 1, 1, 1, 1, 1, 1, 1, 1, 1, 1, 1, 1, 1, 1, 1, 1, 1, 1, 1, 1, 1, 1, 1, 1, 1, 1, 1, 1, 1, 1, 1, 1, 1, 1, 1, 1, 1, 1, 1, 1, 1, 1, 1, 1, 1]\n",
      "Token size:  256\n"
     ]
    }
   ],
   "source": [
    "# Ví dụ\n",
    "tokenized = tokenize_line('tôi khỏe')\n",
    "print('After encode: ', tokenized)\n",
    "print('Token size: ', len(tokenized))"
   ]
  },
  {
   "cell_type": "code",
   "execution_count": 14,
   "metadata": {},
   "outputs": [
    {
     "name": "stdout",
     "output_type": "stream",
     "text": [
      "Tokenizing train set ...\n"
     ]
    },
    {
     "data": {
      "application/vnd.jupyter.widget-view+json": {
       "model_id": "96d1ad80f6534edbacfdaf349d5faeb7",
       "version_major": 2,
       "version_minor": 0
      },
      "text/plain": [
       "  0%|          | 0/8931 [00:00<?, ?it/s]"
      ]
     },
     "metadata": {},
     "output_type": "display_data"
    },
    {
     "name": "stderr",
     "output_type": "stream",
     "text": [
      "Token indices sequence length is longer than the specified maximum sequence length for this model (360 > 256). Running this sequence through the model will result in indexing errors\n"
     ]
    },
    {
     "name": "stdout",
     "output_type": "stream",
     "text": [
      "Tokenizing test set ... \n"
     ]
    },
    {
     "data": {
      "application/vnd.jupyter.widget-view+json": {
       "model_id": "f19cdfab6c0c41c38b262d2ca75a692d",
       "version_major": 2,
       "version_minor": 0
      },
      "text/plain": [
       "  0%|          | 0/2233 [00:00<?, ?it/s]"
      ]
     },
     "metadata": {},
     "output_type": "display_data"
    },
    {
     "name": "stdout",
     "output_type": "stream",
     "text": [
      "Done after 2 seconds\n"
     ]
    }
   ],
   "source": [
    "# Xử lý trên toàn tập dữ liệu\n",
    "tokenized_train_x = []\n",
    "tokenized_test_x = []\n",
    "\n",
    "start = time.time()\n",
    "\n",
    "print('Tokenizing train set ...')\n",
    "for x in tqdm(train_x):\n",
    "  tokenized_train_x.append(tokenize_line(x))\n",
    "\n",
    "print('Tokenizing test set ... ')\n",
    "for x in tqdm(test_x):\n",
    "  tokenized_test_x.append(tokenize_line(x))\n",
    "\n",
    "print('Done after %d seconds' %(time.time() - start))"
   ]
  },
  {
   "cell_type": "code",
   "execution_count": 15,
   "metadata": {},
   "outputs": [
    {
     "name": "stdout",
     "output_type": "stream",
     "text": [
      "Done!\n"
     ]
    }
   ],
   "source": [
    "# Tạo attention mask để model chỉ tập trung vào phần nội dung mà không quan tâm tới phần padding\n",
    "train_attention_mask = []\n",
    "for x in tokenized_train_x:\n",
    "  train_attention_mask.append(np.where(np.array(x) == 1, 0, 1))\n",
    "\n",
    "test_attention_mask = []\n",
    "for x in tokenized_test_x:\n",
    "  test_attention_mask.append(np.where(np.array(x) == 1, 0, 1))\n",
    "\n",
    "print('Done!')"
   ]
  },
  {
   "cell_type": "code",
   "execution_count": 16,
   "metadata": {},
   "outputs": [
    {
     "name": "stdout",
     "output_type": "stream",
     "text": [
      "[1 1 1 1 1 1 1 1 1 1 1 1 1 1 1 1 1 1 1 0 0 0 0 0 0 0 0 0 0 0 0 0 0 0 0 0 0\n",
      " 0 0 0 0 0 0 0 0 0 0 0 0 0 0 0 0 0 0 0 0 0 0 0 0 0 0 0 0 0 0 0 0 0 0 0 0 0\n",
      " 0 0 0 0 0 0 0 0 0 0 0 0 0 0 0 0 0 0 0 0 0 0 0 0 0 0 0 0 0 0 0 0 0 0 0 0 0\n",
      " 0 0 0 0 0 0 0 0 0 0 0 0 0 0 0 0 0 0 0 0 0 0 0 0 0 0 0 0 0 0 0 0 0 0 0 0 0\n",
      " 0 0 0 0 0 0 0 0 0 0 0 0 0 0 0 0 0 0 0 0 0 0 0 0 0 0 0 0 0 0 0 0 0 0 0 0 0\n",
      " 0 0 0 0 0 0 0 0 0 0 0 0 0 0 0 0 0 0 0 0 0 0 0 0 0 0 0 0 0 0 0 0 0 0 0 0 0\n",
      " 0 0 0 0 0 0 0 0 0 0 0 0 0 0 0 0 0 0 0 0 0 0 0 0 0 0 0 0 0 0 0 0 0 0] 256\n"
     ]
    }
   ],
   "source": [
    "print(train_attention_mask[10], len(train_attention_mask[10]))"
   ]
  },
  {
   "cell_type": "markdown",
   "metadata": {},
   "source": [
    "## 3. Đưa dữ liệu kem theo attention mash vào model phoBERT"
   ]
  },
  {
   "cell_type": "code",
   "execution_count": 17,
   "metadata": {},
   "outputs": [
    {
     "name": "stderr",
     "output_type": "stream",
     "text": [
      "/tmp/ipykernel_33762/2494898448.py:3: UserWarning: Creating a tensor from a list of numpy.ndarrays is extremely slow. Please consider converting the list to a single numpy.ndarray with numpy.array() before converting to a tensor. (Triggered internally at /opt/conda/conda-bld/pytorch_1682343904639/work/torch/csrc/utils/tensor_new.cpp:245.)\n",
      "  attention_mask = torch.tensor(train_attention_mask[:1])\n"
     ]
    },
    {
     "name": "stdout",
     "output_type": "stream",
     "text": [
      "torch.Size([1, 256, 768])\n"
     ]
    }
   ],
   "source": [
    "# convert sang tensor\n",
    "tokenized = torch.tensor(tokenized_train_x[:1]).to(torch.long)\n",
    "attention_mask = torch.tensor(train_attention_mask[:1])\n",
    "\n",
    "with torch.no_grad():\n",
    "  last_hidden_states = phoBert(input_ids=tokenized, attention_mask=attention_mask)\n",
    "\n",
    "print(last_hidden_states[0].shape)"
   ]
  },
  {
   "cell_type": "code",
   "execution_count": 18,
   "metadata": {},
   "outputs": [
    {
     "data": {
      "text/plain": [
       "tensor([[[-0.1909,  0.0869,  0.2894,  ...,  0.1684,  0.0599,  0.8818],\n",
       "         [-0.0514, -0.1701,  0.3377,  ...,  0.6092,  0.0701,  0.0958],\n",
       "         [-0.2949,  0.4445, -0.0636,  ...,  0.4426,  0.4630,  0.3305],\n",
       "         ...,\n",
       "         [-0.2784,  0.0824,  0.3132,  ...,  0.2925, -0.1971,  0.6939],\n",
       "         [-0.2784,  0.0824,  0.3132,  ...,  0.2925, -0.1971,  0.6939],\n",
       "         [-0.2784,  0.0824,  0.3132,  ...,  0.2925, -0.1971,  0.6939]]])"
      ]
     },
     "execution_count": 18,
     "metadata": {},
     "output_type": "execute_result"
    }
   ],
   "source": [
    "last_hidden_states[0]\n"
   ]
  },
  {
   "cell_type": "markdown",
   "metadata": {},
   "source": [
    "***Nhận xét:*** Dữ liệu trả về là một tensor có size là (1,256,768). Trong đó 1 là số sentence truyền vào, 256 là độ dài mỗi sentence và 768 là vector embedding cho mỗi word của sentence đó."
   ]
  },
  {
   "cell_type": "code",
   "execution_count": 18,
   "metadata": {},
   "outputs": [
    {
     "name": "stdout",
     "output_type": "stream",
     "text": [
      "Finish extracting features after 23 seconds\n",
      "Output shape:  (100, 768)\n"
     ]
    }
   ],
   "source": [
    "# Vector embedding của train set\n",
    "tokenized = torch.tensor(tokenized_train_x[:100]).to(torch.long)\n",
    "attention_mask = torch.tensor(train_attention_mask[:100])\n",
    "\n",
    "start = time.time()\n",
    "\n",
    "with torch.no_grad():\n",
    "  last_hidden_states = phoBert(input_ids=tokenized, attention_mask=attention_mask)\n",
    "\n",
    "train_features = last_hidden_states[0][:, 0, :].numpy()\n",
    "print('Finish extracting features after %d seconds' %(time.time() - start))\n",
    "\n",
    "print('Output shape: ', train_features.shape)"
   ]
  },
  {
   "cell_type": "code",
   "execution_count": 19,
   "metadata": {},
   "outputs": [],
   "source": [
    "# Hàm extract feature của 1 line\n",
    "def extract_line(tokenized, mask):\n",
    "  tokenized = torch.tensor(tokenized).to(torch.long)\n",
    "  mask = torch.tensor(mask)\n",
    "\n",
    "  with torch.no_grad():\n",
    "    last_hidden_states = phoBert(input_ids=tokenized, attention_mask=mask)\n",
    "  \n",
    "  feature = last_hidden_states[0][:, 0, :].numpy()\n",
    "\n",
    "  return feature"
   ]
  },
  {
   "cell_type": "code",
   "execution_count": 20,
   "metadata": {},
   "outputs": [
    {
     "data": {
      "text/plain": [
       "array([[ 1.45887375e-01,  4.27035362e-01, -2.68667996e-01,\n",
       "        -6.65369749e-01, -9.71091762e-02, -3.94507557e-01,\n",
       "         3.59896004e-01, -3.44907671e-01, -2.16611266e-01,\n",
       "         2.18474761e-01, -1.73640221e-01, -3.02961260e-01,\n",
       "        -3.46240844e-03,  4.33997244e-01,  6.83623016e-01,\n",
       "         8.70230943e-02, -2.64169693e-01, -2.88109303e-01,\n",
       "         2.90302141e-03, -4.64014858e-01,  4.41070199e-01,\n",
       "        -1.27252913e+00,  6.80581748e-01, -2.86536738e-02,\n",
       "         1.73290759e-01,  3.42011303e-01,  1.10351421e-01,\n",
       "        -8.96911044e-03, -2.76632696e-01,  4.97710645e-01,\n",
       "        -2.02433422e-01, -2.44636312e-01,  1.85745239e-01,\n",
       "         1.86224565e-01,  3.79491657e-01,  5.96053675e-02,\n",
       "        -4.72792350e-02, -2.38901645e-01,  1.22735567e-01,\n",
       "         6.64256334e-01,  4.95662183e-01,  1.96899511e-02,\n",
       "         1.62627101e-01, -6.90607846e-01, -1.83930844e-01,\n",
       "        -2.72065729e-01,  3.42366070e-01,  3.81594688e-01,\n",
       "        -1.00714356e-01,  4.04931784e-01, -1.15193844e-01,\n",
       "         1.16429679e-01, -5.05910218e-02, -1.02755100e-01,\n",
       "         3.18195760e-01,  1.71614438e-01,  5.32682016e-02,\n",
       "         2.25810915e-01, -1.14967476e-03, -8.45167711e-02,\n",
       "         2.07187399e-01,  4.73574162e-01, -2.13644534e-01,\n",
       "         2.00720340e-01, -1.71616659e-01, -4.52112198e-01,\n",
       "        -1.41668871e-01,  7.63802305e-02,  3.82902116e-01,\n",
       "         2.98300803e-01, -4.39014733e-02,  2.45936915e-01,\n",
       "        -5.01140296e-01,  1.09841573e+00, -2.83963948e-01,\n",
       "        -4.06570375e-01,  1.09026767e-02, -8.11486021e-02,\n",
       "         4.67295051e-01,  3.52342486e-01,  6.04905672e-02,\n",
       "         3.70170057e-01, -5.86360097e-02, -6.24757744e-02,\n",
       "         2.76366025e-01,  4.42210853e-01, -1.01320806e-03,\n",
       "         1.76228344e-01,  3.80415976e-01,  2.16730669e-01,\n",
       "         1.48689508e-01,  7.30497316e-02, -1.04070827e-01,\n",
       "         2.87489116e-01,  8.55639130e-02, -1.84471950e-01,\n",
       "         2.07173258e-01,  2.60118302e-02,  1.35073960e-01,\n",
       "         2.31208310e-01,  2.70939589e-01, -8.04627389e-02,\n",
       "        -3.05502027e-01,  7.33420700e-02,  1.52214006e-01,\n",
       "        -4.23454106e-01, -1.40586033e-01, -2.49559153e-02,\n",
       "        -2.16896757e-02,  4.15625364e-01,  1.02380782e-01,\n",
       "         3.41903418e-01,  2.64981985e-01,  1.18743803e-03,\n",
       "        -2.79269785e-01,  3.24430205e-02, -1.89602673e-02,\n",
       "         4.60515410e-01,  4.66858208e-01, -6.12379909e-01,\n",
       "         6.88489020e-01, -7.29038894e-01,  1.41397435e-02,\n",
       "        -5.77373624e-01, -4.62046713e-01,  1.92023128e-01,\n",
       "         1.55189708e-01,  2.93731093e-01,  6.51473403e-02,\n",
       "         2.39355519e-01,  3.17667097e-01, -2.80682921e-01,\n",
       "         3.16020064e-02,  1.13432086e+00, -8.21176022e-02,\n",
       "        -5.09983897e-01,  1.86293200e-01, -4.08524215e-01,\n",
       "        -4.32328969e-01, -7.10864440e-02,  6.09496891e-01,\n",
       "        -7.54734159e-01, -5.82511313e-02,  2.95393735e-01,\n",
       "        -8.31281580e-03, -2.28205800e-01,  2.99749643e-01,\n",
       "         4.95473325e-01, -2.03795359e-01,  7.62349442e-02,\n",
       "        -2.52657712e-01,  6.78686917e-01, -3.10448587e-01,\n",
       "         2.87522882e-01,  3.58131826e-02, -1.21330249e+00,\n",
       "         8.07609797e-01, -9.32414234e-02,  9.83171523e-01,\n",
       "        -6.55269325e-02,  2.63598114e-01, -5.27933538e-01,\n",
       "        -2.09661856e-01,  1.41996786e-01, -1.05388187e-01,\n",
       "        -6.57343090e-01,  2.24088654e-01,  7.67504498e-02,\n",
       "         1.29386127e-01, -1.44116223e-01, -4.67528552e-01,\n",
       "        -4.71260957e-02,  8.55048180e-01,  3.54097128e-01,\n",
       "        -7.93618679e-01, -7.56138489e-02,  4.53508526e-01,\n",
       "         3.00703228e-01, -1.85281336e-02, -2.10981175e-01,\n",
       "        -7.73760155e-02,  4.45872962e-01,  2.81309038e-01,\n",
       "        -3.08734983e-01,  3.73217799e-02,  2.46336997e-01,\n",
       "         9.18546841e-02, -2.91906893e-01, -6.64587975e-01,\n",
       "        -2.34464467e-01,  2.56520510e-01,  7.46344775e-02,\n",
       "        -1.41779691e-01,  2.31284201e-02,  3.72327834e-01,\n",
       "        -1.59152463e-01, -1.30348176e-01,  3.04699332e-01,\n",
       "         6.40247703e-01,  1.43416420e-01, -3.39276433e-01,\n",
       "        -1.31533742e-01,  3.20580631e-01, -7.12698877e-01,\n",
       "        -4.02758956e-01, -7.94808641e-02,  4.48840767e-01,\n",
       "        -4.07561868e-01,  1.80892065e-01,  8.83648843e-02,\n",
       "         1.28009319e-01, -4.15463537e-01, -2.83636916e-02,\n",
       "        -6.29004955e-01,  9.61613134e-02,  4.32997085e-02,\n",
       "        -3.44582051e-01, -2.88386978e-02, -2.35052463e-02,\n",
       "         9.39048454e-02,  8.24942648e-01, -6.79402411e-01,\n",
       "        -1.91031471e-01, -1.42904192e-01, -5.85376248e-02,\n",
       "        -5.32737911e-01, -1.45221412e-01,  5.47002954e-03,\n",
       "         4.41928767e-02, -5.79700708e-01,  1.15900986e-01,\n",
       "        -4.80198413e-01,  3.90962481e-01, -3.34533244e-01,\n",
       "         1.29681543e-01, -6.29464686e-02,  1.57375291e-01,\n",
       "         2.49238223e-01, -3.36458355e-01,  6.59360170e-01,\n",
       "        -1.72670320e-01,  2.89698154e-01, -7.03774929e-01,\n",
       "        -3.96776237e-02,  5.69290042e-01,  8.47644452e-03,\n",
       "        -2.78790236e-01,  4.23781425e-01, -4.64123189e-01,\n",
       "        -1.46274358e-01, -8.39580297e-02,  4.07846719e-01,\n",
       "         4.48911935e-01, -9.66174621e-03,  3.90909128e-02,\n",
       "        -3.17136556e-01,  5.42876422e-02,  1.01132557e-01,\n",
       "        -1.50895905e+00,  5.72512865e-01,  7.98788015e-03,\n",
       "         2.29493603e-01, -2.13380754e-01, -5.77677116e-02,\n",
       "         3.43099564e-01, -6.98582530e-01,  1.80035278e-01,\n",
       "         8.28047097e-02, -2.50620097e-01,  2.88237542e-01,\n",
       "        -1.16486475e-01,  1.42831922e-01,  8.71868059e-02,\n",
       "        -1.55830592e-01,  2.54543841e-01,  2.13748619e-01,\n",
       "        -1.02459319e-01, -3.43489975e-01,  3.89057755e-01,\n",
       "         1.01411611e-01,  5.19177496e-01, -5.50796054e-02,\n",
       "         3.84730577e-01, -6.28012791e-02,  5.88106275e-01,\n",
       "         4.89042670e-01, -5.80963306e-02,  3.08243543e-01,\n",
       "        -1.36758313e-01, -5.27364872e-02, -4.90423679e-01,\n",
       "         4.34698053e-02,  7.48773873e-01, -2.79976219e-01,\n",
       "        -4.99565125e-01, -6.80712387e-02,  4.19153601e-01,\n",
       "        -1.62895456e-01,  4.85408641e-02,  4.12819266e-01,\n",
       "         2.98389256e-01,  1.29529595e-01,  3.60581219e-01,\n",
       "        -4.40343648e-01,  1.66308537e-01, -1.87492996e-01,\n",
       "         2.95035988e-02, -5.07578999e-02,  5.27494133e-01,\n",
       "         8.13884139e-01,  5.84950745e-01, -2.93078274e-01,\n",
       "         4.75634217e-01,  2.86350310e-01, -2.10795164e-01,\n",
       "         4.12282854e-01, -7.43303478e-01, -3.43385220e-01,\n",
       "         5.01847386e-01, -1.50811777e-01,  8.84587407e-01,\n",
       "         2.61750698e-01, -2.21264977e-02, -6.98703349e-01,\n",
       "         6.08326234e-02, -5.25099695e-01, -2.66055495e-01,\n",
       "        -1.75190400e-02, -1.50447071e-01,  1.25888705e-01,\n",
       "        -2.52074808e-01,  2.86808163e-01,  6.41098559e-01,\n",
       "         2.57201165e-01, -4.19282973e-01, -5.91796517e-01,\n",
       "        -2.43963450e-01,  7.25978389e-02,  4.01874036e-01,\n",
       "        -5.69986820e-01,  2.97225118e-01,  1.23743363e-01,\n",
       "         6.42768562e-01, -4.14353192e-01,  6.03709579e-01,\n",
       "        -2.41971582e-01,  1.53866366e-01, -2.71149099e-01,\n",
       "        -2.79236734e-01, -3.36939871e-01, -3.68124217e-01,\n",
       "        -1.32634088e-01,  4.70475316e-01,  2.65558481e-01,\n",
       "        -1.77169397e-01, -2.65509076e-02, -7.79480115e-02,\n",
       "        -2.23969132e-01,  2.79900700e-01,  1.76584721e-01,\n",
       "        -1.04167238e-01,  5.56722701e-01, -1.65983528e-01,\n",
       "        -1.67865351e-01, -4.13237140e-02, -9.18967873e-02,\n",
       "        -2.76649386e-01,  1.78369343e-01,  3.70579995e-02,\n",
       "        -5.13279736e-01, -3.61176968e-01,  6.89476967e-01,\n",
       "         3.12042505e-01,  3.92511785e-01,  6.17243230e-01,\n",
       "         7.37324417e-01,  3.43381047e-01, -4.22219604e-01,\n",
       "         2.96227969e-02,  6.42307460e-01, -6.33645833e-01,\n",
       "        -3.66742015e-01, -7.18804598e-01, -1.18625730e-01,\n",
       "         4.35081780e-01,  1.30916778e-02, -4.93348747e-01,\n",
       "         2.71100432e-01,  4.16862071e-01,  2.79272795e-01,\n",
       "        -3.78410012e-01, -4.61834781e-02, -2.27847800e-01,\n",
       "        -6.46564424e-01,  5.13576865e-01, -8.54686946e-02,\n",
       "         1.27736807e-01, -3.53184715e-02,  4.78174537e-01,\n",
       "         2.33811051e-01, -2.02006683e-01,  2.87223876e-01,\n",
       "        -8.71378362e-01, -2.60189176e-01,  3.78732383e-01,\n",
       "        -4.55168515e-01,  3.45678002e-01,  1.07116304e-01,\n",
       "        -2.29350761e-01,  1.54465020e-01,  5.91514587e-01,\n",
       "        -5.89209087e-02, -1.31503060e-01,  1.27687916e-01,\n",
       "         1.05102416e-02, -2.34728560e-01, -5.55869162e-01,\n",
       "        -9.40602422e-02,  2.35010281e-01, -3.02168548e-01,\n",
       "         1.54837281e-01, -5.42590141e-01, -3.43498498e-01,\n",
       "        -6.12487793e-02,  4.89126503e-01,  2.44605288e-01,\n",
       "        -2.63095379e-01, -4.57770050e-01,  8.26254934e-02,\n",
       "        -3.31249028e-01, -3.49115312e-01, -2.97724247e-01,\n",
       "        -4.11021680e-01,  1.20215572e-01,  2.28792056e-01,\n",
       "         3.39976758e-01,  2.03384981e-02,  1.16601028e-01,\n",
       "         3.41142327e-01,  3.93506616e-01, -3.61163616e-01,\n",
       "         2.77207363e-02,  2.19956338e-01, -5.93139324e-03,\n",
       "         1.25623211e-01, -6.65584505e-01,  5.21829724e-01,\n",
       "         2.35235080e-01, -7.20931292e-02,  9.47862715e-02,\n",
       "        -1.80964917e-01,  5.21794930e-02, -4.94795829e-01,\n",
       "        -1.38494134e-01,  3.28360498e-01,  6.45401627e-02,\n",
       "         6.89296797e-02,  1.19107462e-01, -6.18582964e-01,\n",
       "        -1.21186279e-01,  5.74075282e-01,  3.70303422e-01,\n",
       "        -1.23739600e-01, -2.91457623e-02,  9.29744020e-02,\n",
       "        -6.70168102e-02, -4.75383639e-01,  4.37081933e-01,\n",
       "         5.96329682e-02,  1.76237896e-01, -1.01389013e-01,\n",
       "         7.13483214e-01,  1.16767116e-01, -5.60252964e-01,\n",
       "        -1.76915720e-01, -1.49869442e-01, -5.76251805e-01,\n",
       "        -1.97935887e-02, -1.21396475e-01,  7.13978261e-02,\n",
       "        -3.23234171e-01,  2.31365651e-01, -4.49802041e-01,\n",
       "         2.68351853e-01,  1.46490142e-01, -4.19103682e-01,\n",
       "        -2.01025661e-02,  2.70746559e-01, -3.48683834e-01,\n",
       "         7.28727430e-02,  8.15876797e-02,  2.46060774e-01,\n",
       "         2.48173159e-02, -1.44965351e-01, -6.42710149e-01,\n",
       "        -1.28682360e-01,  1.59911901e-01, -2.64134519e-02,\n",
       "         2.28900060e-01, -1.43378794e-01, -1.76560208e-01,\n",
       "        -3.57482463e-01,  3.38789493e-01,  1.87260062e-01,\n",
       "         1.07954204e+00,  5.40011883e-01,  1.00766993e+00,\n",
       "         2.94889182e-01,  9.18257892e-01,  4.51445043e-01,\n",
       "        -2.24593133e-01, -1.92884549e-01,  3.04396391e-01,\n",
       "         2.04394177e-01,  2.57487774e-01,  3.36937830e-02,\n",
       "         2.88877159e-01,  6.13389075e-01, -1.21879853e-01,\n",
       "         5.56656301e-01,  3.32734473e-02,  6.63728356e-01,\n",
       "        -2.77255476e-01, -1.98445618e-01,  6.84129834e-01,\n",
       "        -3.21597040e-01, -1.54619485e-01,  9.65221450e-02,\n",
       "        -3.86972070e-01, -6.09187819e-02,  4.89959657e-01,\n",
       "        -4.43856746e-01,  1.35516584e+00, -2.70765066e-01,\n",
       "         5.76102257e-01,  1.89193323e-01, -3.97073366e-02,\n",
       "         4.09552574e-01, -3.67176235e-01, -2.95190364e-01,\n",
       "         4.78243440e-01,  4.91975285e-02,  3.83071117e-02,\n",
       "        -9.66071934e-02, -7.91613936e-01, -2.37101018e-01,\n",
       "        -4.79714125e-01,  1.00344324e+00,  2.04496849e-02,\n",
       "         3.13589200e-02, -1.59561917e-01, -5.54986715e-01,\n",
       "        -4.37821954e-01, -6.83068857e-02,  2.68455714e-01,\n",
       "         4.64564003e-02,  2.58602947e-01,  4.95874375e-01,\n",
       "         2.82550845e-02, -4.85734910e-01,  3.69573981e-01,\n",
       "        -3.33882123e-01,  3.85538131e-01,  2.84803450e-01,\n",
       "        -1.06844213e-02,  2.20584050e-02,  2.75106966e-01,\n",
       "        -3.96601737e-01, -1.59883574e-01, -1.95597470e-01,\n",
       "        -2.52523899e-01,  3.48171033e-03,  4.50059474e-01,\n",
       "         1.17548771e-01, -4.77996707e-01,  2.23092273e-01,\n",
       "         3.39269906e-01,  5.07518470e-01,  1.63427651e-01,\n",
       "        -6.55152380e-01,  5.28684735e-01,  2.97481231e-02,\n",
       "        -6.66939914e-02,  4.83668484e-02,  4.32333015e-02,\n",
       "         7.47058839e-02, -2.14135021e-01,  7.91271210e-01,\n",
       "        -2.28748947e-01,  8.88496414e-02, -8.86108577e-01,\n",
       "        -3.81575793e-01,  4.96869236e-02, -1.39072761e-02,\n",
       "         3.30713987e-01, -7.63605118e-01,  1.35116234e-01,\n",
       "         1.46095112e-01, -7.29009509e-02,  5.97597241e-01,\n",
       "         1.24671345e-03,  1.89201012e-01,  7.04685688e-01,\n",
       "         1.04116529e-01, -8.41544494e-02,  1.48115084e-01,\n",
       "         7.37093836e-02,  3.05834085e-01, -1.58287197e-01,\n",
       "         6.45523369e-02,  4.29209024e-01, -3.32228132e-02,\n",
       "        -4.03429121e-02, -2.01062605e-01,  5.72241604e-01,\n",
       "        -9.51050892e-02, -6.58855066e-02, -4.48765278e-01,\n",
       "        -2.94318289e-01,  2.81681269e-01,  2.44305074e-01,\n",
       "         6.35349154e-01,  4.75533932e-01,  6.71033561e-01,\n",
       "         2.83559114e-01,  2.05571309e-01, -7.74361610e-01,\n",
       "        -1.72956675e-01,  3.23863447e-01, -5.73528469e-01,\n",
       "        -8.48335251e-02,  2.94736534e-01, -4.09216970e-01,\n",
       "         3.42970312e-01,  5.70021152e-01, -2.67720073e-01,\n",
       "         6.21702373e-02,  4.92626399e-01,  4.73427147e-01,\n",
       "         5.85568696e-02,  6.55079931e-02,  1.01273954e+00,\n",
       "         4.14856702e-01,  6.46285415e-02,  8.89406279e-02,\n",
       "        -3.77510816e-01,  3.52075845e-01, -5.17000496e-01,\n",
       "         3.41661394e-01,  2.13463128e-01,  5.48382103e-01,\n",
       "        -4.89776671e-01,  2.27535218e-01, -4.72559392e-01,\n",
       "        -1.05035618e-01, -1.85539976e-01,  8.55864882e-02,\n",
       "         3.92159820e-01, -1.26718193e-01,  1.30218074e-01,\n",
       "         3.61257344e-01,  2.89987177e-01, -3.50309074e-01,\n",
       "        -7.40397722e-02, -5.90729117e-01, -1.70495868e-01,\n",
       "        -8.52418393e-02, -4.47480194e-02, -6.92243204e-02,\n",
       "         1.52128801e-01, -8.71818513e-03, -6.94195777e-02,\n",
       "        -3.36236626e-01,  6.91849709e-01, -3.34671646e-01,\n",
       "        -3.42996359e-01,  1.15429975e-01,  3.36557209e-01,\n",
       "         2.19262019e-01,  2.15600938e-01, -9.50252831e-01,\n",
       "        -7.31060266e-01,  6.71824336e-01, -1.18556418e-01,\n",
       "        -1.92171726e-02, -3.20057690e-01,  2.96723723e-01,\n",
       "        -3.32243219e-02,  6.24168932e-01,  2.61498183e-01,\n",
       "         8.48432481e-02, -3.37279052e-01,  2.46124700e-01,\n",
       "         3.99142206e-01,  3.00562769e-01,  5.03688157e-01,\n",
       "         6.39081672e-02,  2.83559654e-02, -7.11414754e-01,\n",
       "         8.99486169e-02,  2.13976607e-01, -9.97660384e-02,\n",
       "         7.75515735e-01,  1.16396574e-02, -3.78407836e-01,\n",
       "        -2.43780956e-01, -3.98791283e-01,  2.53354669e-01,\n",
       "         7.38152489e-02,  2.58686781e-01,  4.01825607e-01,\n",
       "        -5.30288108e-02,  1.14872426e-01, -2.15704471e-01,\n",
       "         1.79928154e-01, -2.77780920e-01,  2.70312764e-02,\n",
       "         1.48380380e-02, -4.09587771e-01, -3.52707177e-01,\n",
       "         5.09238914e-02, -3.35084081e-01,  5.39703369e-02,\n",
       "         1.69051945e-01,  2.26951167e-01, -3.54317725e-01,\n",
       "         2.75366336e-01, -3.11418444e-01,  3.72864336e-01,\n",
       "         2.04497471e-01,  6.57821298e-01, -1.44746304e-01,\n",
       "         2.93586522e-01, -1.44025505e-01,  4.77760136e-01,\n",
       "        -3.40858549e-01, -6.84096664e-02,  3.58100533e-01,\n",
       "         1.34410873e-01,  2.65467465e-01, -7.77750492e-01,\n",
       "         1.61979999e-02, -9.29716289e-01,  1.31311521e-01,\n",
       "         4.32892054e-01,  3.29350680e-01,  4.44110155e-01,\n",
       "        -2.94483304e-01,  4.83895354e-02,  2.23728240e-01,\n",
       "         9.32679594e-01,  2.92205364e-01, -3.04755032e-01,\n",
       "         5.26714027e-01, -6.32963479e-01, -2.96196967e-01,\n",
       "         6.63210571e-01,  4.06951100e-01, -1.96554258e-01,\n",
       "        -3.19573820e-01, -3.16349268e-01,  2.85249144e-01,\n",
       "        -2.57176965e-01,  9.75585580e-02,  3.47755909e-01,\n",
       "        -3.06556344e-01, -9.75140557e-02, -4.69197482e-01]], dtype=float32)"
      ]
     },
     "execution_count": 20,
     "metadata": {},
     "output_type": "execute_result"
    }
   ],
   "source": [
    "document = \"k ngon\"\n",
    "\n",
    "tokenized = [tokenize_line(document)]\n",
    "\n",
    "mask = [np.where(np.array(tokenized) == 1, 0, 1)]\n",
    "\n",
    "extract_line(tokenized, mask)"
   ]
  },
  {
   "cell_type": "code",
   "execution_count": 21,
   "metadata": {},
   "outputs": [
    {
     "data": {
      "application/vnd.jupyter.widget-view+json": {
       "model_id": "026c04eebc4d41b98b942d7f7f0c6ac4",
       "version_major": 2,
       "version_minor": 0
      },
      "text/plain": [
       "  0%|          | 0/447 [00:00<?, ?it/s]"
      ]
     },
     "metadata": {},
     "output_type": "display_data"
    },
    {
     "name": "stdout",
     "output_type": "stream",
     "text": [
      "Finish extracting features after 2352 seconds\n",
      "Output shape:  (8931, 768)\n"
     ]
    }
   ],
   "source": [
    "# Embed tập train\n",
    "train_size = len(tokenized_train_x)\n",
    "EMBED_SIZE = 768\n",
    "train_features = np.zeros(shape=(train_size, EMBED_SIZE))\n",
    "\n",
    "start = time.time()\n",
    "\n",
    "step = 20\n",
    "for i in tqdm(range(0, train_size, step)):\n",
    "  mask = train_attention_mask[i:i+step]\n",
    "  tokenized = tokenized_train_x[i:i+step]\n",
    "  feature = extract_line(tokenized, mask)\n",
    "  train_features[i:i+step] = feature\n",
    "\n",
    "print('Finish extracting features after %d seconds' %(time.time() - start))\n",
    "print('Output shape: ', train_features.shape)"
   ]
  },
  {
   "cell_type": "code",
   "execution_count": 22,
   "metadata": {},
   "outputs": [
    {
     "data": {
      "application/vnd.jupyter.widget-view+json": {
       "model_id": "f8ce3f8833894ec39b9b09f8fd92c927",
       "version_major": 2,
       "version_minor": 0
      },
      "text/plain": [
       "  0%|          | 0/112 [00:00<?, ?it/s]"
      ]
     },
     "metadata": {},
     "output_type": "display_data"
    },
    {
     "name": "stdout",
     "output_type": "stream",
     "text": [
      "Finish extracting features after 525 seconds\n",
      "Output shape:  (2233, 768)\n"
     ]
    }
   ],
   "source": [
    "# Thực hiện tương tự trên tập test\n",
    "test_size = len(tokenized_test_x)\n",
    "EMBED_SIZE = 768\n",
    "test_features = np.zeros(shape=(test_size, EMBED_SIZE))\n",
    "\n",
    "start = time.time()\n",
    "\n",
    "step = 20\n",
    "for i in tqdm(range(0, test_size, step)):\n",
    "  mask = test_attention_mask[i:i+step]\n",
    "  tokenized = tokenized_test_x[i:i+step]\n",
    "  feature = extract_line(tokenized, mask)\n",
    "  test_features[i:i+step] = feature\n",
    "\n",
    "print('Finish extracting features after %d seconds' %(time.time() - start))\n",
    "print('Output shape: ', test_features.shape)"
   ]
  },
  {
   "cell_type": "code",
   "execution_count": 20,
   "metadata": {},
   "outputs": [],
   "source": [
    "import os\n",
    "import pickle\n",
    "\n",
    "# xác định đường dẫn tới thư mục hiện tại\n",
    "current_dir = os.path.dirname(os.path.abspath(\"4. phoBERT.ipynb\"))\n",
    "\n",
    "# đường dẫn tới file cần lưu\n",
    "bert_features_path = os.path.join(current_dir, 'bert_features.sav')\n",
    "bert_test_features_path = os.path.join(current_dir, 'bert_test_features.sav')\n",
    "\n"
   ]
  },
  {
   "cell_type": "code",
   "execution_count": 25,
   "metadata": {},
   "outputs": [],
   "source": [
    "# lưu danh sách embed train\n",
    "pickle.dump(train_features, open(bert_features_path, 'wb'))"
   ]
  },
  {
   "cell_type": "code",
   "execution_count": 26,
   "metadata": {},
   "outputs": [],
   "source": [
    "# lưu danh sách embed test\n",
    "pickle.dump(test_features, open(bert_test_features_path, 'wb'))"
   ]
  },
  {
   "cell_type": "markdown",
   "metadata": {},
   "source": [
    "# Train classifier bằng feature thu thập được "
   ]
  },
  {
   "cell_type": "code",
   "execution_count": 21,
   "metadata": {},
   "outputs": [],
   "source": [
    "# load vector embedding đã lưu\n",
    "train_features = pickle.load(open(bert_features_path, 'rb'))\n",
    "test_features = pickle.load(open(bert_test_features_path, 'rb'))"
   ]
  },
  {
   "cell_type": "code",
   "execution_count": 22,
   "metadata": {},
   "outputs": [],
   "source": [
    "import seaborn as sb\n",
    "def display_result(model):\n",
    "  print(classification_report(test_y, y_pred))\n",
    "  plt.figure(figsize=(5, 3))\n",
    "  conf_matrix = confusion_matrix(test_y, y_pred, labels=labels.unique())\n",
    "  sb.heatmap(conf_matrix, annot=True, fmt='g', cmap='YlOrRd')"
   ]
  },
  {
   "cell_type": "markdown",
   "metadata": {},
   "source": [
    "## Logistic regression"
   ]
  },
  {
   "cell_type": "code",
   "execution_count": 23,
   "metadata": {},
   "outputs": [
    {
     "name": "stdout",
     "output_type": "stream",
     "text": [
      "Logistic Regression finish training after 6 second\n"
     ]
    }
   ],
   "source": [
    "logisticReg = LogisticRegression(max_iter=100_000)\n",
    "\n",
    "start = time.time()\n",
    "logisticReg.fit(train_features, train_y)\n",
    "\n",
    "print('Logistic Regression finish training after %d second' %(time.time() - start))\n",
    "\n",
    "bert_logreg_path = './bert_logreg.sav'\n",
    "pickle.dump(logisticReg, open(bert_logreg_path, 'wb'))"
   ]
  },
  {
   "cell_type": "code",
   "execution_count": 24,
   "metadata": {},
   "outputs": [
    {
     "name": "stdout",
     "output_type": "stream",
     "text": [
      "Accuracy:  0.8056426332288401\n"
     ]
    }
   ],
   "source": [
    "# Đánh giá độ chính xác của mô hình Logistic Regression\n",
    "y_pred = logisticReg.predict(test_features)\n",
    "\n",
    "acc = np.mean(y_pred == np.array(test_y))\n",
    "\n",
    "print('Accuracy: ', acc)"
   ]
  },
  {
   "cell_type": "code",
   "execution_count": 25,
   "metadata": {},
   "outputs": [
    {
     "name": "stdout",
     "output_type": "stream",
     "text": [
      "              precision    recall  f1-score   support\n",
      "\n",
      "          -1       0.76      0.81      0.79       656\n",
      "           0       0.32      0.20      0.25       232\n",
      "           1       0.88      0.91      0.89      1345\n",
      "\n",
      "    accuracy                           0.81      2233\n",
      "   macro avg       0.65      0.64      0.64      2233\n",
      "weighted avg       0.79      0.81      0.79      2233\n",
      "\n"
     ]
    },
    {
     "data": {
      "image/png": "[encoded data removed]",
      "text/plain": [
       "<Figure size 500x300 with 2 Axes>"
      ]
     },
     "metadata": {},
     "output_type": "display_data"
    }
   ],
   "source": [
    "display_result(logisticReg)"
   ]
  },
  {
   "cell_type": "markdown",
   "metadata": {},
   "source": [
    "## SVM"
   ]
  },
  {
   "cell_type": "code",
   "execution_count": 21,
   "metadata": {},
   "outputs": [
    {
     "name": "stdout",
     "output_type": "stream",
     "text": [
      "SVM classifier finish training after 18 seconds\n"
     ]
    }
   ],
   "source": [
    "svm = SVC()\n",
    "\n",
    "start = time.time()\n",
    "svm.fit(train_features, train_y)\n",
    "print('SVM classifier finish training after %d seconds' %(time.time() - start))\n",
    "\n",
    "bert_svm_path = './bert_svm.sav'\n",
    "pickle.dump(svm, open(bert_svm_path, 'wb'))"
   ]
  },
  {
   "cell_type": "code",
   "execution_count": 22,
   "metadata": {},
   "outputs": [
    {
     "name": "stdout",
     "output_type": "stream",
     "text": [
      "Accuracy:  0.8284818629646216\n"
     ]
    }
   ],
   "source": [
    "# Đánh giá độ chính xác\n",
    "y_pred = svm.predict(test_features)\n",
    "\n",
    "acc = np.mean(y_pred == np.array(test_y))\n",
    "print('Accuracy: ', acc)"
   ]
  },
  {
   "cell_type": "code",
   "execution_count": 23,
   "metadata": {},
   "outputs": [
    {
     "name": "stdout",
     "output_type": "stream",
     "text": [
      "              precision    recall  f1-score   support\n",
      "\n",
      "          -1       0.79      0.85      0.82       656\n",
      "           0       0.53      0.04      0.07       232\n",
      "           1       0.85      0.96      0.90      1345\n",
      "\n",
      "    accuracy                           0.83      2233\n",
      "   macro avg       0.72      0.61      0.60      2233\n",
      "weighted avg       0.80      0.83      0.79      2233\n",
      "\n"
     ]
    },
    {
     "data": {
      "image/png": "[encoded data removed]",
      "text/plain": [
       "<Figure size 500x300 with 2 Axes>"
      ]
     },
     "metadata": {},
     "output_type": "display_data"
    }
   ],
   "source": [
    "display_result(svm)"
   ]
  },
  {
   "cell_type": "markdown",
   "metadata": {},
   "source": [
    "# KNN"
   ]
  },
  {
   "cell_type": "code",
   "execution_count": 24,
   "metadata": {},
   "outputs": [],
   "source": [
    "from sklearn.neighbors import KNeighborsClassifier"
   ]
  },
  {
   "cell_type": "code",
   "execution_count": 25,
   "metadata": {},
   "outputs": [
    {
     "name": "stdout",
     "output_type": "stream",
     "text": [
      "KNN classifier finish training after 0 seconds\n"
     ]
    }
   ],
   "source": [
    "KNN = KNeighborsClassifier()\n",
    "\n",
    "start = time.time()\n",
    "KNN.fit(train_features, train_y)\n",
    "print('KNN classifier finish training after %d seconds' %(time.time() - start))"
   ]
  },
  {
   "cell_type": "code",
   "execution_count": 26,
   "metadata": {},
   "outputs": [
    {
     "name": "stdout",
     "output_type": "stream",
     "text": [
      "Accuracy:  0.7380206000895656\n"
     ]
    }
   ],
   "source": [
    "# Đánh giá độ chính xác của mô hình KNN\n",
    "y_pred = KNN.predict(test_features)\n",
    "\n",
    "acc = np.mean(y_pred == np.array(test_y))\n",
    "\n",
    "print('Accuracy: ', acc)"
   ]
  },
  {
   "cell_type": "code",
   "execution_count": 28,
   "metadata": {},
   "outputs": [
    {
     "name": "stdout",
     "output_type": "stream",
     "text": [
      "              precision    recall  f1-score   support\n",
      "\n",
      "          -1       0.70      0.71      0.71       656\n",
      "           0       0.19      0.11      0.14       232\n",
      "           1       0.81      0.86      0.83      1345\n",
      "\n",
      "    accuracy                           0.74      2233\n",
      "   macro avg       0.57      0.56      0.56      2233\n",
      "weighted avg       0.71      0.74      0.72      2233\n",
      "\n"
     ]
    },
    {
     "data": {
      "image/png": "[encoded data removed]",
      "text/plain": [
       "<Figure size 500x300 with 2 Axes>"
      ]
     },
     "metadata": {},
     "output_type": "display_data"
    }
   ],
   "source": [
    "display_result(KNN)\n"
   ]
  },
  {
   "cell_type": "markdown",
   "metadata": {},
   "source": [
    "## Decission Tree"
   ]
  },
  {
   "cell_type": "code",
   "execution_count": 29,
   "metadata": {},
   "outputs": [],
   "source": [
    "from sklearn import tree"
   ]
  },
  {
   "cell_type": "code",
   "execution_count": 30,
   "metadata": {},
   "outputs": [
    {
     "name": "stdout",
     "output_type": "stream",
     "text": [
      "DTree classifier finish training after 15 seconds\n"
     ]
    }
   ],
   "source": [
    "DTree = tree.DecisionTreeClassifier()\n",
    "start = time.time()\n",
    "DTree.fit(train_features, train_y)\n",
    "print('DTree classifier finish training after %d seconds' %(time.time() - start))"
   ]
  },
  {
   "cell_type": "code",
   "execution_count": 31,
   "metadata": {},
   "outputs": [
    {
     "name": "stdout",
     "output_type": "stream",
     "text": [
      "Accuracy:  0.6023287057769816\n"
     ]
    }
   ],
   "source": [
    "# Đánh giá độ chính xác của mô hình MNB\n",
    "y_pred = DTree.predict(test_features)\n",
    "\n",
    "acc = np.mean(y_pred == np.array(test_y))\n",
    "\n",
    "print('Accuracy: ', acc)"
   ]
  },
  {
   "cell_type": "code",
   "execution_count": 32,
   "metadata": {},
   "outputs": [
    {
     "name": "stdout",
     "output_type": "stream",
     "text": [
      "              precision    recall  f1-score   support\n",
      "\n",
      "          -1       0.54      0.52      0.53       656\n",
      "           0       0.14      0.19      0.16       232\n",
      "           1       0.74      0.72      0.73      1345\n",
      "\n",
      "    accuracy                           0.60      2233\n",
      "   macro avg       0.47      0.47      0.47      2233\n",
      "weighted avg       0.62      0.60      0.61      2233\n",
      "\n"
     ]
    },
    {
     "data": {
      "image/png": "[encoded data removed]",
      "text/plain": [
       "<Figure size 500x300 with 2 Axes>"
      ]
     },
     "metadata": {},
     "output_type": "display_data"
    }
   ],
   "source": [
    "display_result(DTree)"
   ]
  },
  {
   "cell_type": "markdown",
   "metadata": {},
   "source": [
    "## Random forest"
   ]
  },
  {
   "cell_type": "code",
   "execution_count": 33,
   "metadata": {},
   "outputs": [],
   "source": [
    "from sklearn.ensemble import RandomForestClassifier"
   ]
  },
  {
   "cell_type": "code",
   "execution_count": 34,
   "metadata": {},
   "outputs": [
    {
     "name": "stdout",
     "output_type": "stream",
     "text": [
      "Random forest classifier finish training after 25 seconds\n"
     ]
    }
   ],
   "source": [
    "rf = RandomForestClassifier()\n",
    "start = time.time()\n",
    "rf.fit(train_features, train_y)\n",
    "print('Random forest classifier finish training after %d seconds' %(time.time() - start))"
   ]
  },
  {
   "cell_type": "code",
   "execution_count": 35,
   "metadata": {},
   "outputs": [
    {
     "name": "stdout",
     "output_type": "stream",
     "text": [
      "Accuracy:  0.7559337214509628\n"
     ]
    }
   ],
   "source": [
    "# Đánh giá độ chính xác của mô hình MNB\n",
    "y_pred = rf.predict(test_features)\n",
    "\n",
    "acc = np.mean(y_pred == np.array(test_y))\n",
    "\n",
    "print('Accuracy: ', acc)"
   ]
  },
  {
   "cell_type": "code",
   "execution_count": 36,
   "metadata": {},
   "outputs": [
    {
     "name": "stdout",
     "output_type": "stream",
     "text": [
      "              precision    recall  f1-score   support\n",
      "\n",
      "          -1       0.80      0.61      0.69       656\n",
      "           0       0.00      0.00      0.00       232\n",
      "           1       0.74      0.96      0.84      1345\n",
      "\n",
      "    accuracy                           0.76      2233\n",
      "   macro avg       0.51      0.52      0.51      2233\n",
      "weighted avg       0.68      0.76      0.71      2233\n",
      "\n"
     ]
    },
    {
     "data": {
      "image/png": "[encoded data removed]",
      "text/plain": [
       "<Figure size 500x300 with 2 Axes>"
      ]
     },
     "metadata": {},
     "output_type": "display_data"
    }
   ],
   "source": [
    "display_result(rf)\n"
   ]
  },
  {
   "cell_type": "markdown",
   "metadata": {},
   "source": [
    "# Tổng kết và nhận xét"
   ]
  },
  {
   "cell_type": "markdown",
   "metadata": {},
   "source": [
    "|<center><div style=\"width:150px\"></div><center>|<center><div style=\"width:290px\">Macro avg F1-score </div><center>|<center><div style=\"width:290px\">Weighted avg F1-score </div><center>|\n",
    "|---------- |:-------------:|:-------------:|\n",
    "|KNN|<center>0.56<center>|<center>0.72<center>|\n",
    "|Logistic Regression|<center>0.64<center> |<center>0.79<center>|\n",
    "|SVM| <center>0.60<center> |<center>0.79<center>|\n",
    "|Decision Tree| <center>0.47<center> |<center>0.61<center>|\n",
    "|Random Forest| <center>0.51<center> |<center>0.71<center>|\n"
   ]
  },
  {
   "cell_type": "markdown",
   "metadata": {},
   "source": [
    "Kết quả cho thấy: Thuật toán logistic regression cho kết quả tốt nhất"
   ]
  },
  {
   "cell_type": "markdown",
   "metadata": {},
   "source": [
    "# Tinh chỉnh tham số bằng gridsearch"
   ]
  },
  {
   "cell_type": "code",
   "execution_count": 26,
   "metadata": {},
   "outputs": [],
   "source": [
    "from sklearn.model_selection import StratifiedShuffleSplit, cross_validate, GridSearchCV, cross_val_score"
   ]
  },
  {
   "cell_type": "code",
   "execution_count": 27,
   "metadata": {},
   "outputs": [
    {
     "name": "stdout",
     "output_type": "stream",
     "text": [
      "Searching time: 790.2389500141144\n",
      "Best parameters: {'C': 0.25}\n"
     ]
    }
   ],
   "source": [
    "# Define parameter grid\n",
    "# param_grid = {'C': np.arange(0.25,7.5,0.25),\n",
    "#               'solver': ['newton-cg', 'lbfgs', 'liblinear', 'sag', 'saga'],\n",
    "#               }\n",
    "param_grid = {'C': np.arange(0.25,7.5,0.25)}\n",
    "\n",
    "\n",
    "# Define grid search\n",
    "grid_search = GridSearchCV(logisticReg, param_grid, cv=5, n_jobs=-1)\n",
    "\n",
    "# Train the model with grid search\n",
    "start = time.time()\n",
    "grid_search.fit(train_features, train_y)\n",
    "print('Searching time:', (time.time() - start))\n",
    "\n",
    "# Print the best parameters\n",
    "print('Best parameters:', grid_search.best_params_)"
   ]
  },
  {
   "cell_type": "markdown",
   "metadata": {},
   "source": [
    "## Best model "
   ]
  },
  {
   "cell_type": "code",
   "execution_count": 28,
   "metadata": {},
   "outputs": [
    {
     "name": "stdout",
     "output_type": "stream",
     "text": [
      "Logistic training time: 6\n"
     ]
    }
   ],
   "source": [
    "best_model = LogisticRegression(C= 0.25, solver='liblinear')\n",
    "start = time.time()\n",
    "best_model.fit(train_features, train_y)\n",
    "print('Logistic training time: %d' %(time.time() - start))"
   ]
  },
  {
   "cell_type": "code",
   "execution_count": 29,
   "metadata": {},
   "outputs": [
    {
     "name": "stdout",
     "output_type": "stream",
     "text": [
      "Accuracy:  0.8266905508284819\n"
     ]
    }
   ],
   "source": [
    "# Đánh giá độ chính xác của mô hình best\n",
    "y_pred = best_model.predict(test_features)\n",
    "\n",
    "acc = np.mean(y_pred == np.array(test_y))\n",
    "\n",
    "print('Accuracy: ', acc)"
   ]
  },
  {
   "cell_type": "code",
   "execution_count": 30,
   "metadata": {},
   "outputs": [
    {
     "name": "stdout",
     "output_type": "stream",
     "text": [
      "              precision    recall  f1-score   support\n",
      "\n",
      "          -1       0.78      0.85      0.81       656\n",
      "           0       0.43      0.15      0.22       232\n",
      "           1       0.87      0.93      0.90      1345\n",
      "\n",
      "    accuracy                           0.83      2233\n",
      "   macro avg       0.69      0.64      0.64      2233\n",
      "weighted avg       0.80      0.83      0.80      2233\n",
      "\n"
     ]
    },
    {
     "data": {
      "image/png": "[encoded data removed]",
      "text/plain": [
       "<Figure size 500x300 with 2 Axes>"
      ]
     },
     "metadata": {},
     "output_type": "display_data"
    }
   ],
   "source": [
    "display_result(best_model)"
   ]
  },
  {
   "cell_type": "markdown",
   "metadata": {},
   "source": [
    "## Export model "
   ]
  },
  {
   "cell_type": "code",
   "execution_count": 31,
   "metadata": {},
   "outputs": [
    {
     "data": {
      "text/plain": [
       "['clf_logic.pkl']"
      ]
     },
     "execution_count": 31,
     "metadata": {},
     "output_type": "execute_result"
    }
   ],
   "source": [
    "import joblib\n",
    "\n",
    "joblib.dump(best_model, \"clf_logic.pkl\")"
   ]
  }
 ],
 "metadata": {
  "kernelspec": {
   "display_name": "UIT",
   "language": "python",
   "name": "python3"
  },
  "language_info": {
   "codemirror_mode": {
    "name": "ipython",
    "version": 3
   },
   "file_extension": ".py",
   "mimetype": "text/x-python",
   "name": "python",
   "nbconvert_exporter": "python",
   "pygments_lexer": "ipython3",
   "version": "3.10.9"
  },
  "orig_nbformat": 4
 },
 "nbformat": 4,
 "nbformat_minor": 2
}
