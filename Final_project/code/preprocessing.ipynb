{
 "cells": [
  {
   "cell_type": "markdown",
   "metadata": {},
   "source": [
    "# Import một số thư viện cần thiết"
   ]
  },
  {
   "cell_type": "code",
   "execution_count": 43,
   "metadata": {},
   "outputs": [],
   "source": [
    "import numpy as np\n",
    "import pandas as pd \n",
    "import matplotlib.pyplot as plt\n",
    "import seaborn as sb\n",
    "import os\n",
    "import math\n",
    "import preprocessing_module as pre\n"
   ]
  },
  {
   "cell_type": "markdown",
   "metadata": {},
   "source": [
    "# Load data"
   ]
  },
  {
   "cell_type": "code",
   "execution_count": 44,
   "metadata": {},
   "outputs": [],
   "source": [
    "data1 = pd.read_excel(\"../dataset/raw-data/negative_data.xlsx\")\n",
    "data2 = pd.read_excel(\"../dataset/raw-data/neutral_data.xlsx\")\n",
    "data3 = pd.read_excel(\"../dataset/raw-data/positive_data.xlsx\")"
   ]
  },
  {
   "cell_type": "code",
   "execution_count": 45,
   "metadata": {},
   "outputs": [],
   "source": [
    "data = pd.concat([data1, data2, data3])"
   ]
  },
  {
   "cell_type": "code",
   "execution_count": 46,
   "metadata": {},
   "outputs": [
    {
     "data": {
      "text/html": [
       "<div>\n",
       "<style scoped>\n",
       "    .dataframe tbody tr th:only-of-type {\n",
       "        vertical-align: middle;\n",
       "    }\n",
       "\n",
       "    .dataframe tbody tr th {\n",
       "        vertical-align: top;\n",
       "    }\n",
       "\n",
       "    .dataframe thead th {\n",
       "        text-align: right;\n",
       "    }\n",
       "</style>\n",
       "<table border=\"1\" class=\"dataframe\">\n",
       "  <thead>\n",
       "    <tr style=\"text-align: right;\">\n",
       "      <th></th>\n",
       "      <th>Rate</th>\n",
       "      <th>Review</th>\n",
       "      <th>Label</th>\n",
       "    </tr>\n",
       "  </thead>\n",
       "  <tbody>\n",
       "    <tr>\n",
       "      <th>0</th>\n",
       "      <td>4.0</td>\n",
       "      <td>Mình thề là mình ko thể cảm nổi đồ ăn ở aeon m...</td>\n",
       "      <td>-1</td>\n",
       "    </tr>\n",
       "    <tr>\n",
       "      <th>1</th>\n",
       "      <td>3.8</td>\n",
       "      <td>Đôi khi thèm lên là bất chấp nắng nóng phi Và ...</td>\n",
       "      <td>-1</td>\n",
       "    </tr>\n",
       "    <tr>\n",
       "      <th>2</th>\n",
       "      <td>3.8</td>\n",
       "      <td>Ngõ treo biển cafe trứng đúng kiểu phố cổ hà n...</td>\n",
       "      <td>-1</td>\n",
       "    </tr>\n",
       "    <tr>\n",
       "      <th>3</th>\n",
       "      <td>3.8</td>\n",
       "      <td>Mình thấy địa chỉ cafe Giảng ở Nguyễn Hữu Huân...</td>\n",
       "      <td>-1</td>\n",
       "    </tr>\n",
       "    <tr>\n",
       "      <th>4</th>\n",
       "      <td>2.2</td>\n",
       "      <td>Mình là người Hà Nội và cũng cực kỳ khó tính t...</td>\n",
       "      <td>-1</td>\n",
       "    </tr>\n",
       "    <tr>\n",
       "      <th>...</th>\n",
       "      <td>...</td>\n",
       "      <td>...</td>\n",
       "      <td>...</td>\n",
       "    </tr>\n",
       "    <tr>\n",
       "      <th>6936</th>\n",
       "      <td>7.2</td>\n",
       "      <td>Mình mới đến quán 1 lần và cảm thấy quán khá d...</td>\n",
       "      <td>1</td>\n",
       "    </tr>\n",
       "    <tr>\n",
       "      <th>6937</th>\n",
       "      <td>8.0</td>\n",
       "      <td>Quán ăn đồ Hàn mới mở ở gần trường mình nên bữ...</td>\n",
       "      <td>1</td>\n",
       "    </tr>\n",
       "    <tr>\n",
       "      <th>6938</th>\n",
       "      <td>7.2</td>\n",
       "      <td>Vị trí: mặt tiền nên ko khó tìm cho lắm nhưng ...</td>\n",
       "      <td>1</td>\n",
       "    </tr>\n",
       "    <tr>\n",
       "      <th>6939</th>\n",
       "      <td>10</td>\n",
       "      <td>Trà Sữa Dưa Lưới y như gu mình thích :))) Tuy ...</td>\n",
       "      <td>1</td>\n",
       "    </tr>\n",
       "    <tr>\n",
       "      <th>6940</th>\n",
       "      <td>6.8</td>\n",
       "      <td>Fan cuồng mì cay ở đây,mì bò kim chi cực...</td>\n",
       "      <td>1</td>\n",
       "    </tr>\n",
       "  </tbody>\n",
       "</table>\n",
       "<p>11494 rows × 3 columns</p>\n",
       "</div>"
      ],
      "text/plain": [
       "     Rate                                             Review  Label\n",
       "0     4.0  Mình thề là mình ko thể cảm nổi đồ ăn ở aeon m...     -1\n",
       "1     3.8  Đôi khi thèm lên là bất chấp nắng nóng phi Và ...     -1\n",
       "2     3.8  Ngõ treo biển cafe trứng đúng kiểu phố cổ hà n...     -1\n",
       "3     3.8  Mình thấy địa chỉ cafe Giảng ở Nguyễn Hữu Huân...     -1\n",
       "4     2.2  Mình là người Hà Nội và cũng cực kỳ khó tính t...     -1\n",
       "...   ...                                                ...    ...\n",
       "6936  7.2  Mình mới đến quán 1 lần và cảm thấy quán khá d...      1\n",
       "6937  8.0  Quán ăn đồ Hàn mới mở ở gần trường mình nên bữ...      1\n",
       "6938  7.2  Vị trí: mặt tiền nên ko khó tìm cho lắm nhưng ...      1\n",
       "6939   10  Trà Sữa Dưa Lưới y như gu mình thích :))) Tuy ...      1\n",
       "6940  6.8  Fan cuồng mì cay ở đây,mì bò kim chi cực...      1\n",
       "\n",
       "[11494 rows x 3 columns]"
      ]
     },
     "execution_count": 46,
     "metadata": {},
     "output_type": "execute_result"
    }
   ],
   "source": [
    "data"
   ]
  },
  {
   "cell_type": "code",
   "execution_count": 47,
   "metadata": {},
   "outputs": [],
   "source": [
    "# data = pd.DataFrame(columns=['Review', 'Label'])\n",
    "# for comment in merge_data['Review']:\n",
    "#     sentences = pre.extract_sectence_from_paragraph(comment)\n",
    "#     for sentence in sentences:\n",
    "#         data = data.append({'Review': sentence}, ignore_index=True)\n",
    "# data.to_excel(\"../dataset/raw-data/data.xlsx\")"
   ]
  },
  {
   "cell_type": "code",
   "execution_count": 48,
   "metadata": {},
   "outputs": [
    {
     "data": {
      "image/png": "[encoded data removed]",
      "text/plain": [
       "<Figure size 500x300 with 1 Axes>"
      ]
     },
     "metadata": {},
     "output_type": "display_data"
    }
   ],
   "source": [
    "plt.figure(figsize=(5,3))\n",
    "sb.countplot(data=data, x=\"Label\").set_title('Thống kê dữ liệu')\n",
    "plt.show()"
   ]
  },
  {
   "cell_type": "code",
   "execution_count": 49,
   "metadata": {},
   "outputs": [
    {
     "data": {
      "text/plain": [
       " 1    6941\n",
       "-1    3377\n",
       " 0    1176\n",
       "Name: Label, dtype: int64"
      ]
     },
     "execution_count": 49,
     "metadata": {},
     "output_type": "execute_result"
    }
   ],
   "source": [
    "data[\"Label\"].value_counts()"
   ]
  },
  {
   "cell_type": "code",
   "execution_count": 50,
   "metadata": {},
   "outputs": [
    {
     "name": "stdout",
     "output_type": "stream",
     "text": [
      "Độ dài trung bình của bình luận trong bộ dữ liệu: 69 từ\n"
     ]
    }
   ],
   "source": [
    "def sentence_len(text):\n",
    "  return len(text.split(' '));\n",
    "\n",
    "df_len_headline = data[\"Review\"].apply(lambda text: sentence_len(text))\n",
    "print('Độ dài trung bình của bình luận trong bộ dữ liệu:', int(np.mean(df_len_headline)), 'từ')"
   ]
  },
  {
   "cell_type": "code",
   "execution_count": 51,
   "metadata": {},
   "outputs": [
    {
     "data": {
      "image/png": "[encoded data removed]",
      "text/plain": [
       "<Figure size 1000x500 with 1 Axes>"
      ]
     },
     "metadata": {},
     "output_type": "display_data"
    }
   ],
   "source": [
    "plt.figure(figsize=(10, 5))\n",
    "plt.title(\"Thống kê số từ trong bình luận\")\n",
    "plt.xlabel('Số từ')\n",
    "plt.ylabel('Số bình luận')\n",
    "plt.hist(np.array(df_len_headline), bins=int(math.sqrt(len(df_len_headline))));"
   ]
  },
  {
   "cell_type": "markdown",
   "metadata": {},
   "source": [
    "# Một số bước tiền xử lý"
   ]
  },
  {
   "cell_type": "code",
   "execution_count": 52,
   "metadata": {},
   "outputs": [],
   "source": [
    "def preprocessing_text(text):\n",
    "    # Chuẩn hóa unicode và dấu câu\n",
    "    text = pre.convert_unicode(text)\n",
    "\n",
    "    # Đưa tất cả câu về dạng viết thường\n",
    "    text = pre.to_lower_case(text)\n",
    "\n",
    "    # Xóa các ký tự không cần thiết\n",
    "    text = pre.remove_unnecessary_charactor(text)\n",
    "\n",
    "    # Chuẩn hóa từ viết tắt\n",
    "    text = pre.abbreviate(text, \"./abbreviations.txt\")\n",
    "\n",
    "    # xóa khoảng trắng thừa\n",
    "    text = pre.re.sub(r'\\s+', ' ', text).strip()\n",
    "\n",
    "    # Chuẩn hóa những từ lặp âm tiết\n",
    "    text = pre.remove_duplicate_characters(text)\n",
    "\n",
    "    # Tách từ tiếng Việt (theo từ đơn từ ghép)\n",
    "    text = pre.word_tokenize(text, format='text')\n",
    "\n",
    "    return text\n"
   ]
  },
  {
   "cell_type": "code",
   "execution_count": 53,
   "metadata": {},
   "outputs": [
    {
     "data": {
      "text/html": [
       "<div>\n",
       "<style scoped>\n",
       "    .dataframe tbody tr th:only-of-type {\n",
       "        vertical-align: middle;\n",
       "    }\n",
       "\n",
       "    .dataframe tbody tr th {\n",
       "        vertical-align: top;\n",
       "    }\n",
       "\n",
       "    .dataframe thead th {\n",
       "        text-align: right;\n",
       "    }\n",
       "</style>\n",
       "<table border=\"1\" class=\"dataframe\">\n",
       "  <thead>\n",
       "    <tr style=\"text-align: right;\">\n",
       "      <th></th>\n",
       "      <th>Rate</th>\n",
       "      <th>Review</th>\n",
       "      <th>Label</th>\n",
       "      <th>Preprocess_Review</th>\n",
       "    </tr>\n",
       "  </thead>\n",
       "  <tbody>\n",
       "    <tr>\n",
       "      <th>0</th>\n",
       "      <td>4.0</td>\n",
       "      <td>Mình thề là mình ko thể cảm nổi đồ ăn ở aeon m...</td>\n",
       "      <td>-1</td>\n",
       "      <td>mình thề là mình không_thể cảm nổi đồ ăn ở aeo...</td>\n",
       "    </tr>\n",
       "    <tr>\n",
       "      <th>1</th>\n",
       "      <td>3.8</td>\n",
       "      <td>Đôi khi thèm lên là bất chấp nắng nóng phi Và ...</td>\n",
       "      <td>-1</td>\n",
       "      <td>đôi khi thèm lên là bất_chấp nắng nóng phi và ...</td>\n",
       "    </tr>\n",
       "    <tr>\n",
       "      <th>2</th>\n",
       "      <td>3.8</td>\n",
       "      <td>Ngõ treo biển cafe trứng đúng kiểu phố cổ hà n...</td>\n",
       "      <td>-1</td>\n",
       "      <td>ngõ treo biển cafe trứng đúng kiểu phố cổ hà_n...</td>\n",
       "    </tr>\n",
       "    <tr>\n",
       "      <th>3</th>\n",
       "      <td>3.8</td>\n",
       "      <td>Mình thấy địa chỉ cafe Giảng ở Nguyễn Hữu Huân...</td>\n",
       "      <td>-1</td>\n",
       "      <td>mình thấy địa_chỉ cafe giảng ở nguyễn_hữu_huân...</td>\n",
       "    </tr>\n",
       "    <tr>\n",
       "      <th>4</th>\n",
       "      <td>2.2</td>\n",
       "      <td>Mình là người Hà Nội và cũng cực kỳ khó tính t...</td>\n",
       "      <td>-1</td>\n",
       "      <td>mình là người hà_nội và cũng cực_kỳ khó_tính t...</td>\n",
       "    </tr>\n",
       "    <tr>\n",
       "      <th>...</th>\n",
       "      <td>...</td>\n",
       "      <td>...</td>\n",
       "      <td>...</td>\n",
       "      <td>...</td>\n",
       "    </tr>\n",
       "    <tr>\n",
       "      <th>6936</th>\n",
       "      <td>7.2</td>\n",
       "      <td>Mình mới đến quán 1 lần và cảm thấy quán khá d...</td>\n",
       "      <td>1</td>\n",
       "      <td>mình mới đến quán lần và cảm_thấy quán khá dễ ...</td>\n",
       "    </tr>\n",
       "    <tr>\n",
       "      <th>6937</th>\n",
       "      <td>8.0</td>\n",
       "      <td>Quán ăn đồ Hàn mới mở ở gần trường mình nên bữ...</td>\n",
       "      <td>1</td>\n",
       "      <td>quán ăn đồ hàn mới mở ở gần trường mình nên bữ...</td>\n",
       "    </tr>\n",
       "    <tr>\n",
       "      <th>6938</th>\n",
       "      <td>7.2</td>\n",
       "      <td>Vị trí: mặt tiền nên ko khó tìm cho lắm nhưng ...</td>\n",
       "      <td>1</td>\n",
       "      <td>vị_trí mặt_tiền nên không khó tìm cho lắm nhưn...</td>\n",
       "    </tr>\n",
       "    <tr>\n",
       "      <th>6939</th>\n",
       "      <td>10</td>\n",
       "      <td>Trà Sữa Dưa Lưới y như gu mình thích :))) Tuy ...</td>\n",
       "      <td>1</td>\n",
       "      <td>trà sữa dưa lưới y_như gu mình thích tuy vẫn c...</td>\n",
       "    </tr>\n",
       "    <tr>\n",
       "      <th>6940</th>\n",
       "      <td>6.8</td>\n",
       "      <td>Fan cuồng mì cay ở đây,mì bò kim chi cực...</td>\n",
       "      <td>1</td>\n",
       "      <td>fan cuồng mì cay ở đây mì bò kim_chi cực ngon ...</td>\n",
       "    </tr>\n",
       "  </tbody>\n",
       "</table>\n",
       "<p>11494 rows × 4 columns</p>\n",
       "</div>"
      ],
      "text/plain": [
       "     Rate                                             Review  Label  \\\n",
       "0     4.0  Mình thề là mình ko thể cảm nổi đồ ăn ở aeon m...     -1   \n",
       "1     3.8  Đôi khi thèm lên là bất chấp nắng nóng phi Và ...     -1   \n",
       "2     3.8  Ngõ treo biển cafe trứng đúng kiểu phố cổ hà n...     -1   \n",
       "3     3.8  Mình thấy địa chỉ cafe Giảng ở Nguyễn Hữu Huân...     -1   \n",
       "4     2.2  Mình là người Hà Nội và cũng cực kỳ khó tính t...     -1   \n",
       "...   ...                                                ...    ...   \n",
       "6936  7.2  Mình mới đến quán 1 lần và cảm thấy quán khá d...      1   \n",
       "6937  8.0  Quán ăn đồ Hàn mới mở ở gần trường mình nên bữ...      1   \n",
       "6938  7.2  Vị trí: mặt tiền nên ko khó tìm cho lắm nhưng ...      1   \n",
       "6939   10  Trà Sữa Dưa Lưới y như gu mình thích :))) Tuy ...      1   \n",
       "6940  6.8  Fan cuồng mì cay ở đây,mì bò kim chi cực...      1   \n",
       "\n",
       "                                      Preprocess_Review  \n",
       "0     mình thề là mình không_thể cảm nổi đồ ăn ở aeo...  \n",
       "1     đôi khi thèm lên là bất_chấp nắng nóng phi và ...  \n",
       "2     ngõ treo biển cafe trứng đúng kiểu phố cổ hà_n...  \n",
       "3     mình thấy địa_chỉ cafe giảng ở nguyễn_hữu_huân...  \n",
       "4     mình là người hà_nội và cũng cực_kỳ khó_tính t...  \n",
       "...                                                 ...  \n",
       "6936  mình mới đến quán lần và cảm_thấy quán khá dễ ...  \n",
       "6937  quán ăn đồ hàn mới mở ở gần trường mình nên bữ...  \n",
       "6938  vị_trí mặt_tiền nên không khó tìm cho lắm nhưn...  \n",
       "6939  trà sữa dưa lưới y_như gu mình thích tuy vẫn c...  \n",
       "6940  fan cuồng mì cay ở đây mì bò kim_chi cực ngon ...  \n",
       "\n",
       "[11494 rows x 4 columns]"
      ]
     },
     "execution_count": 53,
     "metadata": {},
     "output_type": "execute_result"
    }
   ],
   "source": [
    "data[\"Preprocess_Review\"] = data[\"Review\"].apply(lambda x: preprocessing_text(x))\n",
    "data"
   ]
  },
  {
   "cell_type": "code",
   "execution_count": 54,
   "metadata": {},
   "outputs": [
    {
     "data": {
      "text/html": [
       "<div>\n",
       "<style scoped>\n",
       "    .dataframe tbody tr th:only-of-type {\n",
       "        vertical-align: middle;\n",
       "    }\n",
       "\n",
       "    .dataframe tbody tr th {\n",
       "        vertical-align: top;\n",
       "    }\n",
       "\n",
       "    .dataframe thead th {\n",
       "        text-align: right;\n",
       "    }\n",
       "</style>\n",
       "<table border=\"1\" class=\"dataframe\">\n",
       "  <thead>\n",
       "    <tr style=\"text-align: right;\">\n",
       "      <th></th>\n",
       "      <th>Rate</th>\n",
       "      <th>Review</th>\n",
       "      <th>Label</th>\n",
       "      <th>Preprocess_Review</th>\n",
       "    </tr>\n",
       "  </thead>\n",
       "  <tbody>\n",
       "    <tr>\n",
       "      <th>0</th>\n",
       "      <td>4.0</td>\n",
       "      <td>Mình thề là mình ko thể cảm nổi đồ ăn ở aeon m...</td>\n",
       "      <td>-1</td>\n",
       "      <td>mình thề là mình không_thể cảm nổi đồ ăn ở aeo...</td>\n",
       "    </tr>\n",
       "    <tr>\n",
       "      <th>1</th>\n",
       "      <td>3.8</td>\n",
       "      <td>Đôi khi thèm lên là bất chấp nắng nóng phi Và ...</td>\n",
       "      <td>-1</td>\n",
       "      <td>đôi khi thèm lên là bất_chấp nắng nóng phi và ...</td>\n",
       "    </tr>\n",
       "    <tr>\n",
       "      <th>2</th>\n",
       "      <td>3.8</td>\n",
       "      <td>Ngõ treo biển cafe trứng đúng kiểu phố cổ hà n...</td>\n",
       "      <td>-1</td>\n",
       "      <td>ngõ treo biển cafe trứng đúng kiểu phố cổ hà_n...</td>\n",
       "    </tr>\n",
       "    <tr>\n",
       "      <th>3</th>\n",
       "      <td>3.8</td>\n",
       "      <td>Mình thấy địa chỉ cafe Giảng ở Nguyễn Hữu Huân...</td>\n",
       "      <td>-1</td>\n",
       "      <td>mình thấy địa_chỉ cafe giảng ở nguyễn_hữu_huân...</td>\n",
       "    </tr>\n",
       "    <tr>\n",
       "      <th>4</th>\n",
       "      <td>2.2</td>\n",
       "      <td>Mình là người Hà Nội và cũng cực kỳ khó tính t...</td>\n",
       "      <td>-1</td>\n",
       "      <td>mình là người hà_nội và cũng cực_kỳ khó_tính t...</td>\n",
       "    </tr>\n",
       "    <tr>\n",
       "      <th>...</th>\n",
       "      <td>...</td>\n",
       "      <td>...</td>\n",
       "      <td>...</td>\n",
       "      <td>...</td>\n",
       "    </tr>\n",
       "    <tr>\n",
       "      <th>6936</th>\n",
       "      <td>7.2</td>\n",
       "      <td>Mình mới đến quán 1 lần và cảm thấy quán khá d...</td>\n",
       "      <td>1</td>\n",
       "      <td>mình mới đến quán lần và cảm_thấy quán khá dễ ...</td>\n",
       "    </tr>\n",
       "    <tr>\n",
       "      <th>6937</th>\n",
       "      <td>8.0</td>\n",
       "      <td>Quán ăn đồ Hàn mới mở ở gần trường mình nên bữ...</td>\n",
       "      <td>1</td>\n",
       "      <td>quán ăn đồ hàn mới mở ở gần trường mình nên bữ...</td>\n",
       "    </tr>\n",
       "    <tr>\n",
       "      <th>6938</th>\n",
       "      <td>7.2</td>\n",
       "      <td>Vị trí: mặt tiền nên ko khó tìm cho lắm nhưng ...</td>\n",
       "      <td>1</td>\n",
       "      <td>vị_trí mặt_tiền nên không khó tìm cho lắm nhưn...</td>\n",
       "    </tr>\n",
       "    <tr>\n",
       "      <th>6939</th>\n",
       "      <td>10</td>\n",
       "      <td>Trà Sữa Dưa Lưới y như gu mình thích :))) Tuy ...</td>\n",
       "      <td>1</td>\n",
       "      <td>trà sữa dưa lưới y_như gu mình thích tuy vẫn c...</td>\n",
       "    </tr>\n",
       "    <tr>\n",
       "      <th>6940</th>\n",
       "      <td>6.8</td>\n",
       "      <td>Fan cuồng mì cay ở đây,mì bò kim chi cực...</td>\n",
       "      <td>1</td>\n",
       "      <td>fan cuồng mì cay ở đây mì bò kim_chi cực ngon ...</td>\n",
       "    </tr>\n",
       "  </tbody>\n",
       "</table>\n",
       "<p>11165 rows × 4 columns</p>\n",
       "</div>"
      ],
      "text/plain": [
       "     Rate                                             Review  Label  \\\n",
       "0     4.0  Mình thề là mình ko thể cảm nổi đồ ăn ở aeon m...     -1   \n",
       "1     3.8  Đôi khi thèm lên là bất chấp nắng nóng phi Và ...     -1   \n",
       "2     3.8  Ngõ treo biển cafe trứng đúng kiểu phố cổ hà n...     -1   \n",
       "3     3.8  Mình thấy địa chỉ cafe Giảng ở Nguyễn Hữu Huân...     -1   \n",
       "4     2.2  Mình là người Hà Nội và cũng cực kỳ khó tính t...     -1   \n",
       "...   ...                                                ...    ...   \n",
       "6936  7.2  Mình mới đến quán 1 lần và cảm thấy quán khá d...      1   \n",
       "6937  8.0  Quán ăn đồ Hàn mới mở ở gần trường mình nên bữ...      1   \n",
       "6938  7.2  Vị trí: mặt tiền nên ko khó tìm cho lắm nhưng ...      1   \n",
       "6939   10  Trà Sữa Dưa Lưới y như gu mình thích :))) Tuy ...      1   \n",
       "6940  6.8  Fan cuồng mì cay ở đây,mì bò kim chi cực...      1   \n",
       "\n",
       "                                      Preprocess_Review  \n",
       "0     mình thề là mình không_thể cảm nổi đồ ăn ở aeo...  \n",
       "1     đôi khi thèm lên là bất_chấp nắng nóng phi và ...  \n",
       "2     ngõ treo biển cafe trứng đúng kiểu phố cổ hà_n...  \n",
       "3     mình thấy địa_chỉ cafe giảng ở nguyễn_hữu_huân...  \n",
       "4     mình là người hà_nội và cũng cực_kỳ khó_tính t...  \n",
       "...                                                 ...  \n",
       "6936  mình mới đến quán lần và cảm_thấy quán khá dễ ...  \n",
       "6937  quán ăn đồ hàn mới mở ở gần trường mình nên bữ...  \n",
       "6938  vị_trí mặt_tiền nên không khó tìm cho lắm nhưn...  \n",
       "6939  trà sữa dưa lưới y_như gu mình thích tuy vẫn c...  \n",
       "6940  fan cuồng mì cay ở đây mì bò kim_chi cực ngon ...  \n",
       "\n",
       "[11165 rows x 4 columns]"
      ]
     },
     "execution_count": 54,
     "metadata": {},
     "output_type": "execute_result"
    }
   ],
   "source": [
    "data.drop_duplicates(inplace=True)\n",
    "data"
   ]
  },
  {
   "cell_type": "markdown",
   "metadata": {},
   "source": [
    "# Lưu dữ liệu đã tiền xử lý"
   ]
  },
  {
   "cell_type": "code",
   "execution_count": 55,
   "metadata": {},
   "outputs": [],
   "source": [
    "data.to_excel(\"../dataset/final_data1.xlsx\", index=False)"
   ]
  },
  {
   "cell_type": "markdown",
   "metadata": {},
   "source": [
    "# Xử lý stopword"
   ]
  },
  {
   "cell_type": "markdown",
   "metadata": {},
   "source": [
    "*\"Stop word\"* là những từ phổ biến trong bất kỳ ngỗn ngữ và thường không mang ý nghĩa nhiều, thường bị NLP bỏ qua. Các từ này thường được xóa khỏi văn bản trước khi nó được xử lý để phân tích. Điều này đợc thực hiện để giảm kích thước của văn bản và để tránh thông tin không liên quan.\n",
    "\n",
    "**Khi nào thì xóa Stopword:**\n",
    "\n",
    "Nếu chúng ta đang giải quyết các vấn đề như phân loại văn bản, phân tích tình cảm, thì chúng ta nên loại bỏ các stopword vì chúng không cung cấp các thoog tin liên quan cho mô hình. Nhưng nếu chúng ta đang giải quyết vấn đề như dịch máy thì các stopword có thể hữu ích, vì chúng phải được dịch với các từ khác."
   ]
  },
  {
   "cell_type": "code",
   "execution_count": 56,
   "metadata": {},
   "outputs": [],
   "source": [
    "data[\"Preprocess_Review\"] = data[\"Preprocess_Review\"].apply(lambda x: pre.remove_stopwords(x, path = \"./stopword.txt\"))"
   ]
  },
  {
   "cell_type": "markdown",
   "metadata": {},
   "source": [
    "Lưu kết quả"
   ]
  },
  {
   "cell_type": "code",
   "execution_count": 57,
   "metadata": {},
   "outputs": [],
   "source": [
    "data.to_excel(\"../dataset/final_data2.xlsx\", index=False)"
   ]
  },
  {
   "cell_type": "markdown",
   "metadata": {},
   "source": [
    "# Thống kê dữ liệu "
   ]
  },
  {
   "cell_type": "code",
   "execution_count": 58,
   "metadata": {},
   "outputs": [
    {
     "data": {
      "image/png": "[encoded data removed]",
      "text/plain": [
       "<Figure size 500x300 with 1 Axes>"
      ]
     },
     "metadata": {},
     "output_type": "display_data"
    }
   ],
   "source": [
    "plt.figure(figsize=(5,3))\n",
    "sb.countplot(data=data, x=\"Label\").set_title('Thống kê dữ liệu')\n",
    "plt.show()"
   ]
  },
  {
   "cell_type": "code",
   "execution_count": 59,
   "metadata": {},
   "outputs": [
    {
     "data": {
      "text/plain": [
       " 1    6723\n",
       "-1    3278\n",
       " 0    1164\n",
       "Name: Label, dtype: int64"
      ]
     },
     "execution_count": 59,
     "metadata": {},
     "output_type": "execute_result"
    }
   ],
   "source": [
    "data[\"Label\"].value_counts()"
   ]
  },
  {
   "cell_type": "code",
   "execution_count": 60,
   "metadata": {},
   "outputs": [
    {
     "name": "stdout",
     "output_type": "stream",
     "text": [
      "Độ dài trung bình của bình luận trong bộ dữ liệu: 69 từ\n"
     ]
    }
   ],
   "source": [
    "df_len_comment = data[\"Preprocess_Review\"].apply(lambda text: sentence_len(text))\n",
    "print('Độ dài trung bình của bình luận trong bộ dữ liệu:', int(np.mean(df_len_headline)), 'từ')"
   ]
  },
  {
   "cell_type": "code",
   "execution_count": 62,
   "metadata": {},
   "outputs": [
    {
     "data": {
      "image/png": "[encoded data removed]",
      "text/plain": [
       "<Figure size 1000x500 with 1 Axes>"
      ]
     },
     "metadata": {},
     "output_type": "display_data"
    }
   ],
   "source": [
    "plt.figure(figsize=(10, 5))\n",
    "plt.title(\"Thống kê số từ trong bình luận sau bước tiền xử lí\")\n",
    "plt.xlabel('Số từ')\n",
    "plt.ylabel('Số bình luận')\n",
    "plt.hist(np.array(df_len_comment), bins=int(math.sqrt(len(df_len_comment))));"
   ]
  }
 ],
 "metadata": {
  "kernelspec": {
   "display_name": "UIT",
   "language": "python",
   "name": "python3"
  },
  "language_info": {
   "codemirror_mode": {
    "name": "ipython",
    "version": 3
   },
   "file_extension": ".py",
   "mimetype": "text/x-python",
   "name": "python",
   "nbconvert_exporter": "python",
   "pygments_lexer": "ipython3",
   "version": "3.10.9"
  },
  "orig_nbformat": 4
 },
 "nbformat": 4,
 "nbformat_minor": 2
}
